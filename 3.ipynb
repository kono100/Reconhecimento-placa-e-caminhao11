{
 "cells": [
  {
   "cell_type": "code",
   "execution_count": 4,
   "metadata": {},
   "outputs": [
    {
     "data": {
      "text/plain": [
       "CompletedProcess(args=['python', 'C:\\\\Users\\\\User\\\\Desktop\\\\FACULDADE\\\\REGES\\\\python\\\\caminhao\\\\yolov5\\\\detect.py', '--weights', 'C:\\\\Users\\\\User\\\\Desktop\\\\FACULDADE\\\\REGES\\\\python\\\\caminhao\\\\yolov5\\\\runs\\\\train\\\\exp\\\\weights\\\\best.pt', '--img', '640', '--conf', '0.25', '--source', 'C:\\\\Users\\\\User\\\\Desktop\\\\FACULDADE\\\\REGES\\\\python\\\\caminhao\\\\dataset\\\\test'], returncode=1)"
      ]
     },
     "execution_count": 4,
     "metadata": {},
     "output_type": "execute_result"
    }
   ],
   "source": [
    "\n",
    "import subprocess\n",
    "\n",
    "# Caminho para o script de detecção\n",
    "detect_script = \"C:\\\\Users\\\\User\\\\Desktop\\\\FACULDADE\\\\REGES\\\\python\\\\caminhao\\\\yolov5\\\\detect.py\"\n",
    "\n",
    "# Caminho para o arquivo yolov5s.pt com barras duplas\n",
    "yolov5s_weights = \"C:\\\\Users\\\\User\\Desktop\\\\FACULDADE\\\\REGES\\\\python\\\\caminhao\\\\yolov5\\\\runs\\\\train\\\\exp\\\\weights\\\\best.pt\"\n",
    "\n",
    "# Caminho para a pasta contendo as imagens de entrada\n",
    "source_path = \"C:\\\\Users\\\\User\\\\Desktop\\\\FACULDADE\\\\REGES\\\\python\\\\caminhao\\\\dataset\\\\test\"\n",
    "\n",
    "# Executar a detecção\n",
    "subprocess.run([\n",
    "    \"python\", detect_script,\n",
    "    \"--weights\", yolov5s_weights,\n",
    "    \"--img\", \"640\",\n",
    "    \"--conf\", \"0.25\",\n",
    "    \"--source\", source_path\n",
    "])"
   ]
  }
 ],
 "metadata": {
  "kernelspec": {
   "display_name": "Python 3",
   "language": "python",
   "name": "python3"
  },
  "language_info": {
   "codemirror_mode": {
    "name": "ipython",
    "version": 3
   },
   "file_extension": ".py",
   "mimetype": "text/x-python",
   "name": "python",
   "nbconvert_exporter": "python",
   "pygments_lexer": "ipython3",
   "version": "3.11.2"
  }
 },
 "nbformat": 4,
 "nbformat_minor": 2
}
